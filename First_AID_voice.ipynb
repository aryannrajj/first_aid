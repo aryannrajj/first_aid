{
  "nbformat": 4,
  "nbformat_minor": 0,
  "metadata": {
    "colab": {
      "provenance": []
    },
    "kernelspec": {
      "name": "python3",
      "display_name": "Python 3"
    },
    "language_info": {
      "name": "python"
    }
  },
  "cells": [
    {
      "cell_type": "code",
      "source": [
        "!pip install google-cloud-texttospeech\n",
        "!pip install SpeechRecognition\n",
        "!pip install nltk\n"
      ],
      "metadata": {
        "colab": {
          "base_uri": "https://localhost:8080/"
        },
        "id": "cQZJoQKFOv3A",
        "outputId": "79a7e016-53a4-4bf2-9a5c-04d4cb94d6e5"
      },
      "execution_count": 31,
      "outputs": [
        {
          "output_type": "stream",
          "name": "stdout",
          "text": [
            "Requirement already satisfied: google-cloud-texttospeech in /usr/local/lib/python3.10/dist-packages (2.14.1)\n",
            "Requirement already satisfied: google-api-core[grpc]!=2.0.*,!=2.1.*,!=2.10.*,!=2.2.*,!=2.3.*,!=2.4.*,!=2.5.*,!=2.6.*,!=2.7.*,!=2.8.*,!=2.9.*,<3.0.0dev,>=1.34.0 in /usr/local/lib/python3.10/dist-packages (from google-cloud-texttospeech) (2.11.1)\n",
            "Requirement already satisfied: proto-plus<2.0.0dev,>=1.22.0 in /usr/local/lib/python3.10/dist-packages (from google-cloud-texttospeech) (1.22.3)\n",
            "Requirement already satisfied: protobuf!=3.20.0,!=3.20.1,!=4.21.0,!=4.21.1,!=4.21.2,!=4.21.3,!=4.21.4,!=4.21.5,<5.0.0dev,>=3.19.5 in /usr/local/lib/python3.10/dist-packages (from google-cloud-texttospeech) (3.20.3)\n",
            "Requirement already satisfied: googleapis-common-protos<2.0.dev0,>=1.56.2 in /usr/local/lib/python3.10/dist-packages (from google-api-core[grpc]!=2.0.*,!=2.1.*,!=2.10.*,!=2.2.*,!=2.3.*,!=2.4.*,!=2.5.*,!=2.6.*,!=2.7.*,!=2.8.*,!=2.9.*,<3.0.0dev,>=1.34.0->google-cloud-texttospeech) (1.60.0)\n",
            "Requirement already satisfied: google-auth<3.0.dev0,>=2.14.1 in /usr/local/lib/python3.10/dist-packages (from google-api-core[grpc]!=2.0.*,!=2.1.*,!=2.10.*,!=2.2.*,!=2.3.*,!=2.4.*,!=2.5.*,!=2.6.*,!=2.7.*,!=2.8.*,!=2.9.*,<3.0.0dev,>=1.34.0->google-cloud-texttospeech) (2.17.3)\n",
            "Requirement already satisfied: requests<3.0.0.dev0,>=2.18.0 in /usr/local/lib/python3.10/dist-packages (from google-api-core[grpc]!=2.0.*,!=2.1.*,!=2.10.*,!=2.2.*,!=2.3.*,!=2.4.*,!=2.5.*,!=2.6.*,!=2.7.*,!=2.8.*,!=2.9.*,<3.0.0dev,>=1.34.0->google-cloud-texttospeech) (2.31.0)\n",
            "Requirement already satisfied: grpcio<2.0dev,>=1.33.2 in /usr/local/lib/python3.10/dist-packages (from google-api-core[grpc]!=2.0.*,!=2.1.*,!=2.10.*,!=2.2.*,!=2.3.*,!=2.4.*,!=2.5.*,!=2.6.*,!=2.7.*,!=2.8.*,!=2.9.*,<3.0.0dev,>=1.34.0->google-cloud-texttospeech) (1.56.2)\n",
            "Requirement already satisfied: grpcio-status<2.0.dev0,>=1.33.2 in /usr/local/lib/python3.10/dist-packages (from google-api-core[grpc]!=2.0.*,!=2.1.*,!=2.10.*,!=2.2.*,!=2.3.*,!=2.4.*,!=2.5.*,!=2.6.*,!=2.7.*,!=2.8.*,!=2.9.*,<3.0.0dev,>=1.34.0->google-cloud-texttospeech) (1.48.2)\n",
            "Requirement already satisfied: cachetools<6.0,>=2.0.0 in /usr/local/lib/python3.10/dist-packages (from google-auth<3.0.dev0,>=2.14.1->google-api-core[grpc]!=2.0.*,!=2.1.*,!=2.10.*,!=2.2.*,!=2.3.*,!=2.4.*,!=2.5.*,!=2.6.*,!=2.7.*,!=2.8.*,!=2.9.*,<3.0.0dev,>=1.34.0->google-cloud-texttospeech) (5.3.1)\n",
            "Requirement already satisfied: pyasn1-modules>=0.2.1 in /usr/local/lib/python3.10/dist-packages (from google-auth<3.0.dev0,>=2.14.1->google-api-core[grpc]!=2.0.*,!=2.1.*,!=2.10.*,!=2.2.*,!=2.3.*,!=2.4.*,!=2.5.*,!=2.6.*,!=2.7.*,!=2.8.*,!=2.9.*,<3.0.0dev,>=1.34.0->google-cloud-texttospeech) (0.3.0)\n",
            "Requirement already satisfied: six>=1.9.0 in /usr/local/lib/python3.10/dist-packages (from google-auth<3.0.dev0,>=2.14.1->google-api-core[grpc]!=2.0.*,!=2.1.*,!=2.10.*,!=2.2.*,!=2.3.*,!=2.4.*,!=2.5.*,!=2.6.*,!=2.7.*,!=2.8.*,!=2.9.*,<3.0.0dev,>=1.34.0->google-cloud-texttospeech) (1.16.0)\n",
            "Requirement already satisfied: rsa<5,>=3.1.4 in /usr/local/lib/python3.10/dist-packages (from google-auth<3.0.dev0,>=2.14.1->google-api-core[grpc]!=2.0.*,!=2.1.*,!=2.10.*,!=2.2.*,!=2.3.*,!=2.4.*,!=2.5.*,!=2.6.*,!=2.7.*,!=2.8.*,!=2.9.*,<3.0.0dev,>=1.34.0->google-cloud-texttospeech) (4.9)\n",
            "Requirement already satisfied: charset-normalizer<4,>=2 in /usr/local/lib/python3.10/dist-packages (from requests<3.0.0.dev0,>=2.18.0->google-api-core[grpc]!=2.0.*,!=2.1.*,!=2.10.*,!=2.2.*,!=2.3.*,!=2.4.*,!=2.5.*,!=2.6.*,!=2.7.*,!=2.8.*,!=2.9.*,<3.0.0dev,>=1.34.0->google-cloud-texttospeech) (3.2.0)\n",
            "Requirement already satisfied: idna<4,>=2.5 in /usr/local/lib/python3.10/dist-packages (from requests<3.0.0.dev0,>=2.18.0->google-api-core[grpc]!=2.0.*,!=2.1.*,!=2.10.*,!=2.2.*,!=2.3.*,!=2.4.*,!=2.5.*,!=2.6.*,!=2.7.*,!=2.8.*,!=2.9.*,<3.0.0dev,>=1.34.0->google-cloud-texttospeech) (3.4)\n",
            "Requirement already satisfied: urllib3<3,>=1.21.1 in /usr/local/lib/python3.10/dist-packages (from requests<3.0.0.dev0,>=2.18.0->google-api-core[grpc]!=2.0.*,!=2.1.*,!=2.10.*,!=2.2.*,!=2.3.*,!=2.4.*,!=2.5.*,!=2.6.*,!=2.7.*,!=2.8.*,!=2.9.*,<3.0.0dev,>=1.34.0->google-cloud-texttospeech) (2.0.4)\n",
            "Requirement already satisfied: certifi>=2017.4.17 in /usr/local/lib/python3.10/dist-packages (from requests<3.0.0.dev0,>=2.18.0->google-api-core[grpc]!=2.0.*,!=2.1.*,!=2.10.*,!=2.2.*,!=2.3.*,!=2.4.*,!=2.5.*,!=2.6.*,!=2.7.*,!=2.8.*,!=2.9.*,<3.0.0dev,>=1.34.0->google-cloud-texttospeech) (2023.7.22)\n",
            "Requirement already satisfied: pyasn1<0.6.0,>=0.4.6 in /usr/local/lib/python3.10/dist-packages (from pyasn1-modules>=0.2.1->google-auth<3.0.dev0,>=2.14.1->google-api-core[grpc]!=2.0.*,!=2.1.*,!=2.10.*,!=2.2.*,!=2.3.*,!=2.4.*,!=2.5.*,!=2.6.*,!=2.7.*,!=2.8.*,!=2.9.*,<3.0.0dev,>=1.34.0->google-cloud-texttospeech) (0.5.0)\n",
            "Requirement already satisfied: SpeechRecognition in /usr/local/lib/python3.10/dist-packages (3.10.0)\n",
            "Requirement already satisfied: requests>=2.26.0 in /usr/local/lib/python3.10/dist-packages (from SpeechRecognition) (2.31.0)\n",
            "Requirement already satisfied: charset-normalizer<4,>=2 in /usr/local/lib/python3.10/dist-packages (from requests>=2.26.0->SpeechRecognition) (3.2.0)\n",
            "Requirement already satisfied: idna<4,>=2.5 in /usr/local/lib/python3.10/dist-packages (from requests>=2.26.0->SpeechRecognition) (3.4)\n",
            "Requirement already satisfied: urllib3<3,>=1.21.1 in /usr/local/lib/python3.10/dist-packages (from requests>=2.26.0->SpeechRecognition) (2.0.4)\n",
            "Requirement already satisfied: certifi>=2017.4.17 in /usr/local/lib/python3.10/dist-packages (from requests>=2.26.0->SpeechRecognition) (2023.7.22)\n",
            "Requirement already satisfied: nltk in /usr/local/lib/python3.10/dist-packages (3.8.1)\n",
            "Requirement already satisfied: click in /usr/local/lib/python3.10/dist-packages (from nltk) (8.1.6)\n",
            "Requirement already satisfied: joblib in /usr/local/lib/python3.10/dist-packages (from nltk) (1.3.2)\n",
            "Requirement already satisfied: regex>=2021.8.3 in /usr/local/lib/python3.10/dist-packages (from nltk) (2023.6.3)\n",
            "Requirement already satisfied: tqdm in /usr/local/lib/python3.10/dist-packages (from nltk) (4.66.0)\n"
          ]
        }
      ]
    },
    {
      "cell_type": "code",
      "source": [
        "import os\n",
        "os.environ['TF_ENABLE_ONEDNN_OPTS'] = '1'\n",
        "os.environ['TF_ENABLE_AUTO_MIXED_PRECISION'] = '1'\n",
        "os.environ['DNNL_ENGINE_LIMIT_CPU_CAPABILITIES'] = '1'\n",
        "os.environ['DNNL_VERBOSE'] ='1'\n",
        "os.environ['SYCL_DEVICE_FILTER'] = 'opencl:gpu'"
      ],
      "metadata": {
        "id": "6c2AO3z8h7_f"
      },
      "execution_count": 32,
      "outputs": []
    },
    {
      "cell_type": "code",
      "source": [
        "import nltk\n",
        "\n",
        "nltk.download('punkt')\n"
      ],
      "metadata": {
        "colab": {
          "base_uri": "https://localhost:8080/"
        },
        "id": "rVG8Rq6vPb7n",
        "outputId": "15a7f355-45d6-44e2-ebe7-2083e0628b7f"
      },
      "execution_count": 33,
      "outputs": [
        {
          "output_type": "stream",
          "name": "stderr",
          "text": [
            "[nltk_data] Downloading package punkt to /root/nltk_data...\n",
            "[nltk_data]   Package punkt is already up-to-date!\n"
          ]
        },
        {
          "output_type": "execute_result",
          "data": {
            "text/plain": [
              "True"
            ]
          },
          "metadata": {},
          "execution_count": 33
        }
      ]
    },
    {
      "cell_type": "code",
      "source": [
        "import os\n",
        "import json\n",
        "from google.cloud import texttospeech_v1\n",
        "import nltk\n",
        "nltk.download('punkt')\n",
        "import random\n",
        "import speech_recognition as sr\n",
        "from nltk.stem import PorterStemmer\n",
        "from nltk.tokenize import word_tokenize\n",
        "from difflib import SequenceMatcher\n",
        "\n",
        "# Set the path to your JSON key file\n",
        "json_key_path = \"/content/prefab-wave-395613-26155198bb68.json\"\n",
        "\n",
        "# Set up Google Cloud Text-to-Speech client using the service account key\n",
        "os.environ[\"GOOGLE_APPLICATION_CREDENTIALS\"] = json_key_path\n",
        "client = texttospeech_v1.TextToSpeechClient()\n",
        "\n",
        "# Load intents from intents.json\n",
        "intents_file_path = '/content/intents.json'\n",
        "with open(intents_file_path, 'r') as file:\n",
        "    intents = json.load(file)\n",
        "\n",
        "print(\"Loaded intents:\", intents)\n",
        "\n",
        "# Initialize stemmer\n",
        "stemmer = PorterStemmer()\n",
        "\n",
        "def preprocess_text(text):\n",
        "    text = text.lower()\n",
        "    tokens = word_tokenize(text)\n",
        "    stemmed_tokens = [stemmer.stem(token) for token in tokens]\n",
        "    return stemmed_tokens\n",
        "\n",
        "def get_matching_tag(input_tokens):\n",
        "    tag_keywords = [intent['tag'] for intent in intents['intents']]\n",
        "    for token in input_tokens:\n",
        "        for keyword in tag_keywords:\n",
        "            if token.lower() in keyword.lower():\n",
        "                return keyword\n",
        "    return None\n",
        "\n",
        "def text_to_speech(text, output_file):\n",
        "    synthesis_input = texttospeech_v1.SynthesisInput(text=text)\n",
        "    voice_params = texttospeech_v1.VoiceSelectionParams(\n",
        "        language_code=\"en-US\", ssml_gender=texttospeech_v1.SsmlVoiceGender.NEUTRAL\n",
        "    )\n",
        "    audio_config = texttospeech_v1.AudioConfig(\n",
        "        audio_encoding=texttospeech_v1.AudioEncoding.MP3\n",
        "    )\n",
        "    response = client.synthesize_speech(\n",
        "        input=synthesis_input, voice=voice_params, audio_config=audio_config\n",
        "    )\n",
        "    with open(output_file, \"wb\") as out:\n",
        "        out.write(response.audio_content)\n",
        "    print(f\"Audio content written to {output_file}\")\n",
        "\n",
        "def generate_response(tag):\n",
        "    for intent in intents['intents']:  # Access 'intents' key\n",
        "        if intent['tag'].startswith(tag):  # Check if tag starts with the matched keyword\n",
        "            responses = intent['responses']\n",
        "            return random.choice(responses)\n",
        "    return \"Please be more specific.\"\n",
        "\n",
        "# Initialize the recognizer\n",
        "recognizer = sr.Recognizer()\n",
        "\n",
        "# Input WAV file\n",
        "input_wav_path = input(\"Enter the path to the input WAV file: \")\n",
        "\n",
        "# Process the WAV file\n",
        "with sr.AudioFile(input_wav_path) as source:\n",
        "    audio = recognizer.record(source)\n",
        "    print(\"Processing the WAV file...\")\n",
        "\n",
        "    try:\n",
        "        input_text = recognizer.recognize_google(audio)\n",
        "        print(\"You said:\", input_text)\n",
        "\n",
        "        preprocessed_input = preprocess_text(input_text)\n",
        "        print(\"Preprocessed input:\", preprocessed_input)\n",
        "\n",
        "        matched_tag = get_matching_tag(preprocessed_input)\n",
        "        if matched_tag:\n",
        "            response = generate_response(matched_tag)\n",
        "            print(\"Response:\", response)\n",
        "\n",
        "            # Save response as MP3\n",
        "            output_directory = input(\"Enter the directory path to save the output MP3 file: \")\n",
        "            while not os.path.isdir(output_directory):\n",
        "                output_directory = input(\"Please enter a valid directory path to save the output MP3 file: \")\n",
        "\n",
        "            output_mp3_path = os.path.join(output_directory, \"response.wav\")\n",
        "            text_to_speech(response, output_mp3_path)  # Use the text_to_speech function\n",
        "            print(\"Output MP3 saved at:\", output_mp3_path)\n",
        "        else:\n",
        "            print(\"No matching tag found.\")\n",
        "\n",
        "    except sr.UnknownValueError:\n",
        "        print(\"Could not understand audio\")\n",
        "    except sr.RequestError as e:\n",
        "        print(\"Could not request results; {0}\".format(e))\n"
      ],
      "metadata": {
        "colab": {
          "base_uri": "https://localhost:8080/"
        },
        "id": "1_f5vTRogtH4",
        "outputId": "75d7fe9e-5614-424d-8133-6eba8aa3ec58"
      },
      "execution_count": 34,
      "outputs": [
        {
          "output_type": "stream",
          "name": "stderr",
          "text": [
            "[nltk_data] Downloading package punkt to /root/nltk_data...\n",
            "[nltk_data]   Package punkt is already up-to-date!\n"
          ]
        },
        {
          "output_type": "stream",
          "name": "stdout",
          "text": [
            "Loaded intents: {'intents': [{'tag': 'Cuts', 'patterns': ['What to do if Cuts?', 'How to cure Cuts?', 'Which medicine to apply for Cuts?', 'what to apply on cuts?', 'Cuts'], 'responses': ['Wash the cut properly to prevent infection and stop the bleeding by applying pressure for 1-2minutes until bleeding stops. Apply Petroleum Jelly to make sure that the wound is moist for quick healing. Finally cover the cut with a sterile bandage. Pain relievers such as acetaminophen can be applied.'], 'context_set': ''}, {'tag': 'Abrasions', 'patterns': ['how do you treat abrasions?', 'Do Abrasions cause scars?', 'Abrasions', 'what to do if abrasions?', 'Which medicine to apply for abrasions?', 'How to cure abrasions?'], 'responses': ['Begin with washed hands.Gently clean the area with cool to lukewarm water and mild soap. Remove dirt or other particles from the wound using sterilized tweezers.For a mild scrape that’s not bleeding, leave the wound uncovered.If the wound is bleeding, use a clean cloth or bandage, and apply gentle pressure to the area to stop any bleeding.Cover a wound that bled with a thin layer of topical antibiotic ointment, like Bacitracin, or a sterile moisture barrier ointment, like Aquaphor. Cover it with a clean bandage or gauze. Gently clean the wound and change the ointment and bandage once per day.Watch the area for signs of infection, like pain or redness and swelling. See your doctor if you suspect infection.'], 'context_set': ''}, {'tag': 'stings', 'patterns': ['How do you treat Sting?', 'Stings', 'What to do if you get a sting?', 'Which medicine to apply if sting?'], 'responses': ['Remove any stingers immediately. Some experts recommend scraping out the stinger with a credit card. Applying ice to the site may provide some mild relief. Apply ice for 20 minutes once every hour as needed. Wrap the ice in a towel or keep a cloth between the ice and skin to keep from freezing the skin. Taking an antihistamine such as diphenhydramine (Benadryl) or a nonsedating one such as loratadine (Claritin) will help with itching and swelling. Take acetaminophen (Tylenol) or ibuprofen (Motrin)for pain relief as needed. Wash the sting site with soap and water. Placing hydrocortisone cream on the sting can help relieve redness, itching, and swelling.'], 'context_set': ''}, {'tag': 'Splinter', 'patterns': ['How to remove Splinters', 'How to cure Splinters?', 'What to do if I have splinters?', 'How do you bring a splinter to the surface?'], 'responses': ['1. SOAK IT IN EPSOM SALTS. Dissolve a cup of the salts into a warm bath and soak whatever part of the body has the splinter. Failing that, you can also put some of the salts onto a bandage pad and leave it covered for a day; this will eventually help bring the splinter to the surface. 2. VINEGAR OR OIL. Another simple way to draw out that stubborn splinter is to soak the affected area in oil (olive or corn) or white vinegar. Just pour some in a bowl and soak the area for around 20 to 30 minutes,'], 'context_set': ''}, {'tag': 'Sprains', 'patterns': ['How do you treat a sprain?', 'what to do if i get a sprain?', 'Which cream to apply if i get a sprain?', 'Which medicine to apply if I get a sprain?'], 'responses': [\"Use an ice pack or ice slush bath immediately for 15 to 20 minutes and repeat every two to three hours while you're awake. To help stop swelling, compress the ankle with an elastic bandage until the swelling stops. In most cases, pain relievers — such as ibuprofen (Advil, Motrin IB, others) or naproxen sodium (Aleve, others) or acetaminophen (Tylenol, others) are enough to manage the pain of a sprained ankle.\"], 'context_set': ''}, {'tag': 'Strains', 'patterns': ['How do you treat a strain?', 'what to do if i get a strain?', 'Which cream to apply if i get a strain?', 'Which medicine to apply if I get a strain?', 'How do you diagnose a strain?', 'Is heat or ice better for a pulled muscle?'], 'responses': ['Rest,Ice,Compression and Elevation can be used to cure strains. Avoid using your muscle for a few days, especially if movement causes an increase in pain and also Apply ice immediately after injuring your muscle. This will minimize swelling. Don’t put ice directly on your skin. Use an ice pack or wrap ice in a towel. To reduce swelling, wrap the affected area with an elastic bandage until swelling comes down.'], 'context_set': ''}, {'tag': 'Fever', 'patterns': ['How do you treat a mild Fever?', 'what to do if i get a mild fever?', 'Which medicine to take if I get a mild fever?', 'fever'], 'responses': ['To treat a fever at home: 1)Drink plenty of fluids to stay hydrated. 2)Dress in lightweight clothing. 3)Use a light blanket if you feel chilled, until the chills end. 4)Take acetaminophen (Tylenol, others) or ibuprofen (Advil, Motrin IB, others). 5) Get medical help if the fever lasts more than five days in a row.'], 'context_set': ''}, {'tag': 'Nasal Congestion', 'patterns': ['How do you treat nasal Congestion?', 'what to do if i get a nasal congestion?', 'Which medicine to take if I have a nasal congestion?', 'what to do if i have a blocked nose?', 'How do you treat a blocked nose?', 'How long does nasal congestion last?'], 'responses': ['When you’re stuffed up, focus on keeping your nasal passages and sinuses moist. To keep your nasal passages moist, you can: 1)Use a humidifier or vaporizer. 2)Drink lots of fluids. This will thin out your mucus, which could help prevent blocked sinuses. 3)Place a warm, wet towel on your face. It may relieve discomfort and open your nasal passages.'], 'context_set': ''}, {'tag': 'Cough', 'patterns': ['How to cure cough?', 'How do you treat cough?', 'what to do if i get a cough?', 'Which medicine to take if I get cough?', 'How do you get rid of cough?'], 'responses': ['1) Honey:- Use honey to treat a cough, mix 2 teaspoons (tsp) with warm water or an herbal tea. Drink this mixture once or twice a day. Do not give honey to children under 1 year of age. 2) Ginger:- Brew up a soothing ginger tea by adding 20–40 grams (g) of fresh ginger slices to a cup of hot water. Allow to steep for a few minutes before drinking. Add honey or lemon juice to improve the taste and further soothe a cough. 3) Fluids:- Staying hydrated is vital for those with a cough or cold. Research indicates that drinking liquids at room temperature can alleviate a cough, runny nose, and sneezing.'], 'context_set': ''}, {'tag': 'Sore Throat', 'patterns': ['How do you treat sore throat?', 'what to do if i get a sore throat?', 'Which medicine to take if I get a sore throat?', 'How to cure sore throat?'], 'responses': ['1) Make sure you get plenty of rest and drink a lot of fluids. 2)Inhale steam,Run hot water in a sink.Drape a towel over you to trap the steam, and have the person lean over the sink with the water running. Tell him to breathe deeply through his mouth and nose for 5 to 10 minutes. Repeat several times a day. 3)Have him sip chicken broth or warm tea with honey. Don’t give honey to a child under 12 months of age.'], 'context_set': ''}, {'tag': 'Gastrointestinal problems', 'patterns': ['How do you treat gas problems?', 'what to do if i have Gastrointestinal problems?', 'Which medicine to take if I get gas problem?', 'How to cure Gas problems?'], 'responses': ['1) Replenish body fluids 2)Do not take antidiarrheal drugs or laxatives or pain medication, unless specified by a medical professional.3)Taking antacids may help, per recommendation of a healthcare professional. 4)If prone to frequent heartburns, seek medical help. 5)Taking meals that are not spicy regularly, can relieve ulcer pains. 6)Seek medical help, if conditions persist or continue to worsen'], 'context_set': ''}, {'tag': 'Skin problems', 'patterns': ['How do you treat Skin problems?', 'what to do if i get a skin allergy?', 'Which medicine to take if I get a skin allergy?', 'How to cure skin allergy?'], 'responses': [\"1)Hydrocortisone cream. 2)Ointments like calamine lotion. 3)Antihistamines. 4)Cold compresses. 5)Oatmeal baths. 6)Talk to your doctor about what's best for your specific rash.\"], 'context_set': ''}, {'tag': 'Abdonominal Pain', 'patterns': ['How do you treat Abdonominal Pain?', 'what to do if i get a Abdonominal Pain?', 'Which medicine to take if I get a Abdonominal Pain?', 'How to cure Abdonominal Pain?'], 'responses': ['1)Provide clear fluids to sip, such as water, broth, or fruit juice diluted with water. 2)Serve bland foods, such as saltine crackers, plain bread, dry toast, rice, gelatin, or applesauce. 3)Avoid spicy or greasy foods and caffeinated or carbonated drinks until 48 hours after all symptoms have gone away. '], 'context_set': ''}, {'tag': 'Bruises', 'patterns': ['How do you treat Bruises?', 'what to do if i get a Bruise?', 'Which medicine to take if I get a Bruise?', 'How to cure Bruises?'], 'responses': ['1)Ice the bruise with an ice pack wrapped in a towel. 2)Leave it in place for 10 to 20 minutes. 3)Repeat several times a day for a day or two as needed. 4)Compress the bruised area if it is swelling, using an elastic bandage. '], 'context_set': ''}, {'tag': 'Broken Toe', 'patterns': ['How do you treat a Broken Toe?', 'what to do if i get a Broken Toe?', 'Which medicine to take if I get a Broken Toe?', 'How to cure Broken Toe?'], 'responses': ['1)To help decrease pain and swelling in a broken toe, elevate the foot, ice the injury, and stay off the foot. 2)Depending on the severity of the fracture, the toe may need to be put back into place (reduced), and some compound toe fractures may require surgery.3) Most broken toes heal without complications in six weeks.'], 'context_set': ''}, {'tag': 'Choking', 'patterns': ['How do you treat Choking?', 'what to do if i get a Choke?', 'Which medicine to take if I get Choked?', 'How to cure Choking?'], 'responses': [\"1)Encourage them to keep coughing to try to clear the blockage. 2)Ask them to try to spit out the object if it's in their mouth. 3)If coughing doesn't work, start back blows and Abdonominal thrusts\"], 'context_set': ''}, {'tag': 'Wound', 'patterns': ['How do you treat a wound?', 'what to do if i get a Wound?', 'Which medicine to take if I get wounded?', 'How to cure a wound?'], 'responses': ['1)Rinse the cut or wound with water and apply pressure with sterile gauze, a bandage, or a clean cloth. 2)If blood soaks through the bandage, place another bandage on top of the first and keep applying pressure. 3)Raise the injured body part to slow bleeding. 4)When bleeding stops, cover the wound with a new, clean bandage.'], 'context_set': ''}, {'tag': 'Diarrhea', 'patterns': ['How do you treat Diarrhea?', 'what to do if i get Diarrhea?', 'Which medicine to take if I get Diarrhea?', 'How to cure Diarrhea?'], 'responses': ['1)Hydrating the body is essential for recovering from diarrhea.This causes the body to lose electrolytes such as sodium and chloride. 2)It is highly recommended to avoid dairy products, as they may worsen diarrhea in some people. 3)However, if diarrhea lasts for more than 2 days, seek medical advice to avoid complications.'], 'context_set': ''}, {'tag': 'Frost bite', 'patterns': ['How do you treat a Frost bite?', 'what to do if i get a Frost bite?', 'Which medicine to take if I get a Frost bite?', 'How to cure Frost bite?'], 'responses': [' '], 'context_set': ''}, {'tag': 'Heat Exhaustion', 'patterns': ['How do you treat Heat Exhaustion?', 'what to do if i feel Exhausted due to heat?', 'Which medicine to take if I get Exhausted?', 'How to cure Heat Exhaustion?'], 'responses': [' '], 'context_set': ''}, {'tag': 'Heat Stroke', 'patterns': ['How do you treat Heat Stroke?', 'what to do if i get a Heat Stroke?', 'Which medicine to take if I get Stroke?', 'How to cure a Heat Stroke?'], 'responses': [' '], 'context_set': ''}, {'tag': 'Insect Bites', 'patterns': ['How do you treat a Insect Bite?', 'what to do if a insect bites me?', 'Which medicine to take if I get bitten by a insect?', 'How to cure insect bite?'], 'responses': [' '], 'context_set': ''}, {'tag': 'nose bleed', 'patterns': ['How do you treat a bleeding nose?', 'what to do if i my nose is bleeding?', 'Which medicine to take if I get nose bleed?', 'How to cure nose bleeding?'], 'responses': [' '], 'context_set': ''}, {'tag': 'Pulled Muscle', 'patterns': ['How do you treat a Pulled Muscle?', 'what to do if my muscle is pulled?', 'Which medicine to take if I got pulled muscle?', 'How to cure a pulled muscle?'], 'responses': [' '], 'context_set': ''}, {'tag': 'Rectal bleeding', 'patterns': ['How do you treat Rectal Bleeding?', 'what to do if i get a Rectal Bleeding?', 'Which medicine to take if I get Rectal Bleeding?', 'How to cure Rectal Bleeding?'], 'responses': [' '], 'context_set': ''}, {'tag': 'Sun Burn', 'patterns': ['How do you treat Sun Burn?', 'what to do if i get a Sun Burn?', 'Which medicine to take if I get Sun Burn?', 'How to cure a Sun Burn?'], 'responses': [' '], 'context_set': ''}, {'tag': 'Testicle Pain', 'patterns': ['How do you treat Testicle Pain?', 'what to do if i get a Testicle Pain?', 'Which medicine to take if I get a Testicle Pain?', 'How to cure Testicle Pain?'], 'responses': [' '], 'context_set': ''}, {'tag': 'Vertigo', 'patterns': ['How do you treat a Vertigo?', 'what to do if i get a Vertigo?', 'Which medicine to take if I get Vertigo?', 'How to cure a Vertigo?'], 'responses': [' '], 'context_set': ''}, {'tag': 'Normal Bleeding', 'patterns': ['How do you treat bleeding?', 'what to do if i get a Bleeding?', 'Which medicine to take if I get bleeding?', 'How to cure Bleeding?'], 'responses': [' '], 'context_set': ''}, {'tag': 'Eye Injury', 'patterns': ['How do you treat an eye Injury?', 'what to do if i get a eye Injury?', 'Which medicine to take if I injured my eye?', 'How to cure injured eye?'], 'responses': [' '], 'context_set': ''}, {'tag': 'Chemical Burn', 'patterns': ['How do you treat a chemical burn?', 'what to do if i get a Chemical Burn?', 'Which medicine to take if I get burn due to chemicals?', 'How to cure Chemical Burn?'], 'responses': [' '], 'context_set': ''}, {'tag': 'Poison', 'patterns': ['How do you treat a Poison?', 'what to do if i get Poison?', 'Which medicine to take if I am poisoned?', 'How to cure Poisoning?'], 'responses': [' '], 'context_set': ''}, {'tag': 'Teeth', 'patterns': ['How do you treat broken Teeth ?', 'what to do if my Teeth got broken?', 'Which medicine to take if I get broken teeth?', 'cure broken teeth?'], 'responses': [' '], 'context_set': ''}, {'tag': 'seizure', 'patterns': ['How do you treat a seizure?', 'what to do if i get a seizure?', 'Which medicine to take if I get seizure?', 'How to cure seizure?'], 'responses': [' '], 'context_set': ''}, {'tag': 'Head Injury', 'patterns': ['How do you treat a head Injury?', 'what to do if i get a Head Injury?', 'Which medicine to take if I get injured in the head?', 'How to cure Head Injury?'], 'responses': [' '], 'context_set': ''}, {'tag': 'Fainting', 'patterns': ['How do you treat Faint?', 'what to do if i feel like Fainting?', 'Which medicine to take if I get a Faint?', 'How to cure Fainting?'], 'responses': [' '], 'context_set': ''}, {'tag': 'Headache', 'patterns': ['How do you treat a mild Headache?', 'what to do if i get a mild Headache?', 'Which medicine to take if I have a mild headache?', 'How to cure a mild headache?'], 'responses': ['Give ibuprofen (Advil, Motrin), aspirin, or acetaminophen (Tylenol) for pain. Avoid ibuprofen and other NSAIDs if the person has heart failure or kidney failure. Do not give aspirin to a child under age 18.'], 'context_set': ''}, {'tag': 'Cold', 'patterns': ['How do you treat a Cold?', 'what to do if i get a mild Cold?', 'Which medicine to take if I have a Cold?', 'How to cure Cold?'], 'responses': [\"1)Keeping hydrated is absolutely vital to help 'flush' out the cold, as well as to break down congestion and keep your throat lubricated. 2)Vitamin C is extremely helpful when fighting infection, so at the first sign of a cold be sure to increase your intake by eating plenty of berries, citrus fruits, papayas, broccoli and red peppers which will help keep you protected. 3)When it comes to combating a cold,Vitamin D is essential in helping to regulate immune response.\"], 'context_set': ''}, {'tag': 'Rash', 'patterns': ['How do you treat Rashes?', 'what to do if i get a Rash?', 'Which medicine to take if I have a Rash?', 'How to cure Rash?'], 'responses': ['1)Olive oil helps in healing and promotes skin renewal given it is packed with vitamin E and antioxidants. It also soothes the skin and reduces itching. 2)Baking soda is useful in drying skin rashes as also in relieving itching and inflammation. 3)Aloe Vera,Thanks to its antibacterial, antifungal, anti-inflammatory and emollient properties, aloe vera is excellent for treating a number of skin ailments including rashes as also soothing the skin.'], 'context_set': ''}, {'tag': 'snake bite', 'patterns': ['How do you treat a snake bite?', 'what to do if i get a snake bite?', 'Which medicine to take if I get a snake bite?', 'How to cure snake bite?', 'i got bit by a snake'], 'responses': ['While waiting for medical help: 1)Move the person beyond striking distance of the snake. 2)Have the person lie down with wound below the heart. 3)Keep the person calm and at rest, remaining as still as possible to keep venom from spreading. 4)Cover the wound with loose, sterile bandage. 5)Remove any jewelry from the area that was bitten. 6)Remove shoes if the leg or foot was bitten.'], 'context_set': ''}, {'tag': 'animal bite', 'patterns': ['How do you treat a animal bite?', 'How do you treat a monkey bite?', 'How do you treat a dog bite?', 'what to do if i get a animal bite?', 'Which medicine to take if I get a monekey bite?', 'How to cure dog bite?', 'i got bit by a dog'], 'responses': ['1)Wash the wound with soap and warm water. 2)Gently press a clean cloth over the wound to stop the flow of blood. 3)Apply an antibacterial ointment to the wound. 4)Cover with a sterile bandage. 5)Watch for signs of infection. 6)Seek help if you suspect infection or possible exposure to rabies, or if the wound is severe.'], 'context_set': ''}, {'tag': 'Drowning', 'patterns': ['What to do if someone is Drowning?', 'what to do if someone drowned?', 'What steps to take if i see a drowning person?', 'How to help a drowning person?'], 'responses': [\"1)Place your ear next to the person's mouth and nose. Do you feel air on your cheek? 2)Look to see if the person's chest is moving.If the Person is Not Breathing, Check Pulse. 3)Check the person's pulse for 10 seconds.If There is No Pulse, Start CPR.\"], 'context_set': ''}, {'tag': 'CPR', 'patterns': ['How to give CPR??', 'what to do in a CPR?', 'What steps to take in a CPR??', 'How to help a drowning person in CPR?'], 'responses': ['1)For an adult or child, place the heel of one hand on the center of the chest at the nipple line. You can also push with one hand on top of the other. For an infant, place two fingers on the breastbone. 2)For an adult or child, press down at least 2 inches. Make sure not to press on ribs. For an infant, press down about 1 and 1/2 inches. Make sure not to press on the end of the breastbone. 3)Do chest compressions only, at the rate of 100-120 per minute or more. Let the chest rise completely between pushes. 4)Check to see if the person has started breathing.'], 'context_set': ''}, {'tag': 'Fracture', 'patterns': ['How do you treat a Fracture?', 'what to do if i get a Fracture?', 'Which medicine to take if I have a Fracture?', 'How to cure a Fracture?'], 'responses': [\"1)Stop any bleeding. Apply pressure to the wound with a sterile bandage, a clean cloth or a clean piece of clothing. 2)Immobilize the injured area. Don't try to realign the bone or push a bone that's sticking out back in. If you've been trained in how to splint and professional help isn't readily available, apply a splint to the area above and below the fracture sites. Padding the splints can help reduce discomfort. 3)Apply ice packs to limit swelling and help relieve pain. Don't apply ice directly to the skin. Wrap the ice in a towel, piece of cloth or some other material. 4)Treat for shock. If the person feels faint or is breathing in short, rapid breaths, lay the person down with the head slightly lower than the trunk and, if possible, elevate the legs.\"], 'context_set': ''}]}\n",
            "Enter the path to the input WAV file: /content/voice1.wav\n",
            "Processing the WAV file...\n",
            "You said: gas\n",
            "Preprocessed input: ['ga']\n",
            "Response: 1) Replenish body fluids 2)Do not take antidiarrheal drugs or laxatives or pain medication, unless specified by a medical professional.3)Taking antacids may help, per recommendation of a healthcare professional. 4)If prone to frequent heartburns, seek medical help. 5)Taking meals that are not spicy regularly, can relieve ulcer pains. 6)Seek medical help, if conditions persist or continue to worsen\n",
            "Enter the directory path to save the output MP3 file: /content/response\n",
            "Audio content written to /content/response/response.wav\n",
            "Output MP3 saved at: /content/response/response.wav\n"
          ]
        }
      ]
    }
  ]
}